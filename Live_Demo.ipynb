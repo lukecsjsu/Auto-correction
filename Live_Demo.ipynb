{
 "cells": [
  {
   "cell_type": "markdown",
   "metadata": {},
   "source": [
    "# Auto Correction Demo"
   ]
  },
  {
   "cell_type": "code",
   "execution_count": 1,
   "metadata": {},
   "outputs": [],
   "source": [
    "# coding=utf-8\n",
    "import time \n",
    "import matplotlib\n",
    "from numpy.random import seed \n",
    "from numpy.random import randint \n",
    "import matplotlib.pyplot as plt "
   ]
  },
  {
   "cell_type": "markdown",
   "metadata": {},
   "source": [
    "# Ternary Search Tree\n",
    "\n",
    "The ternary search tree implementation for auto correction with lookup and prefix search functions"
   ]
  },
  {
   "cell_type": "code",
   "execution_count": 2,
   "metadata": {},
   "outputs": [],
   "source": [
    "class TST:\n",
    "    def __init__(self):\n",
    "        self.size = 0\n",
    "        self.root = None\n",
    "\n",
    "    def __len__(self):\n",
    "        return self.size\n",
    "\n",
    "    # Looking for the word in TST\n",
    "    def find(self, word):\n",
    "        # if word[-1] != \"\\0\": word += \"\\0\"\n",
    "        cur_node, pre_node = self.root, self.root\n",
    "        word_i, find_w = 0, False\n",
    "        while cur_node != None:                  # The root node has not been queried yet, and the query can continue\n",
    "            if word[word_i] < cur_node.label:    # Query to the left node\n",
    "                pre_node = cur_node\n",
    "                cur_node = cur_node.left\n",
    "            elif word[word_i] > cur_node.label:  # Query to the right node\n",
    "                pre_node = cur_node\n",
    "                cur_node = cur_node.right\n",
    "            else:                           # word[word_i] was found in TST\n",
    "                if word_i < len(word) - 1:  # Continue to find word[word_i + 1]\n",
    "                    pre_node = cur_node\n",
    "                    cur_node = cur_node.mid\n",
    "                    word_i += 1\n",
    "                else:                       # The whole word has been found\n",
    "                    find_w = True\n",
    "                    break\n",
    "        return find_w, word_i, pre_node\n",
    "    \n",
    "    # Get the suggestion, if the word is error\n",
    "    def suggestion(self, word, num = 10):\n",
    "        _, word_i, pre_node = self.find(word)\n",
    "        pre_word = word[: word_i]\n",
    "        des =  self.descendants(pre_word, pre_node)\n",
    "        suggestion = []\n",
    "        for i, des_this in enumerate(des):\n",
    "            if i < num:\n",
    "                suggestion.append(des_this)\n",
    "        return suggestion\n",
    "    \n",
    "    # Get the descendants of the pre_word\n",
    "    def descendants(self, pre_word, pre_node):\n",
    "        if pre_node != None:\n",
    "            if pre_node.label == '\\0':\n",
    "                yield pre_word\n",
    "            else:\n",
    "                yield from self.descendants(pre_word + pre_node.label, pre_node.mid)\n",
    "                yield from self.descendants(pre_word, pre_node.left)\n",
    "                yield from self.descendants(pre_word, pre_node.right)\n",
    "    \n",
    "\n",
    "    def insert(self, word):\n",
    "        word += '\\0'\n",
    "        prev = self.root\n",
    "        word_i = 0                                 # The index of the word being processed\n",
    "        if prev == None:                           # TST is empty\n",
    "            cur_node = self.TST_node(word[0])      # Create the root\n",
    "            self.root = cur_node\n",
    "            word_i = 1\n",
    "        else:                                      # TST is not empty\n",
    "            # Looking for the word in TST\n",
    "            find_w, word_i, pre_node = self.find(word) \n",
    "            if find_w == False:                    # Could not find the word in TST, But found the word[:word_i]\n",
    "                cur_node = self.TST_node(word[word_i]) # Create the node which label is word[word_i]\n",
    "                if word[word_i] < pre_node.label:      # insert to left\n",
    "                    pre_node.left = cur_node\n",
    "                elif word[word_i] > pre_node.label:    # insert to right\n",
    "                    pre_node.right = cur_node\n",
    "                else:\n",
    "                    print(\"ERROR\")\n",
    "                    exit(0)\n",
    "                word_i += 1\n",
    "        while word_i < len(word):                  # insert the word[word_i + 1:] to the middle node one by one\n",
    "            cur_node.mid = self.TST_node(word[word_i])\n",
    "            cur_node = cur_node.mid\n",
    "            word_i += 1\n",
    "        # Updata the size of TST\n",
    "        self.size += 1\n",
    "        return self.size\n",
    "        \n",
    "\n",
    "    def __str__(self):\n",
    "        s = []\n",
    "        def _str(n, acc, lvl, direction):\n",
    "            prepend = lvl * \"  \"\n",
    "            if n is None:\n",
    "                if direction == \"-\":\n",
    "                    s.append(prepend + \">> {\"+acc+\"}\")\n",
    "                return\n",
    "\n",
    "            s.append(prepend + direction + \" \" + n.label)\n",
    "            _str(n.right, acc, lvl + 1, \"/\")\n",
    "            _str(n.mid, acc + n.label, lvl + 1, \"-\")\n",
    "            _str(n.left, acc, lvl + 1, \"\\\\\")\n",
    "\n",
    "\n",
    "        _str(self.root, \"\", 0, \"-\")\n",
    "\n",
    "        return \"\\n\".join(s).replace('\\0', '$')\n",
    "    \n",
    "    # The node of TST\n",
    "    class TST_node:\n",
    "        def __init__(self, label):\n",
    "            self.label = label\n",
    "            self.left = None\n",
    "            self.mid = None\n",
    "            self.right = None\n",
    "\n",
    "        def __str__(self):\n",
    "            return self.label"
   ]
  },
  {
   "cell_type": "markdown",
   "metadata": {},
   "source": [
    "# Hashing\n",
    "The hashing with chaining implementation for auto correction with lookup function"
   ]
  },
  {
   "cell_type": "code",
   "execution_count": 3,
   "metadata": {},
   "outputs": [],
   "source": [
    "class hashTable:\n",
    "    def __init__(self,size):\n",
    "        self.table = [[] for _ in range(size)]\n",
    "\n",
    "    def insert(self, value):\n",
    "        key = hash(value) % len(self.table)\n",
    "        exists = False\n",
    "        bucket = self.table[key]    \n",
    "        for i, v in enumerate(bucket):\n",
    "            if value == v:\n",
    "                exists = True \n",
    "                break\n",
    "        if not exists:\n",
    "            bucket.append(value)\n",
    "\n",
    "    def search(self, value):\n",
    "        key = hash(value) % len(self.table)    \n",
    "        bucket = self.table[key]\n",
    "        for i, v in enumerate(bucket):\n",
    "            if value == v:\n",
    "                return True\n",
    "        return False"
   ]
  },
  {
   "cell_type": "markdown",
   "metadata": {},
   "source": [
    "Help functions for testing"
   ]
  },
  {
   "cell_type": "code",
   "execution_count": 4,
   "metadata": {},
   "outputs": [],
   "source": [
    "def words_to_array(dict_path, n):\n",
    "    num = 0\n",
    "    # Read the dict from thie given file\n",
    "    f = open(dict_path, \"r\")\n",
    "    line = f.readline().strip()\n",
    "    #     line = line.split(\" \")[0]\n",
    "    words = []\n",
    "    while line != \"\" and num <= n:\n",
    "        words.append(line)\n",
    "        line = f.readline()\n",
    "        line = line.split(\" \")[0]\n",
    "        num += 1\n",
    "    f.close()\n",
    "    return words\n",
    "\n",
    "def words_to_tst(words):\n",
    "    # Create the TST\n",
    "    t = TST()\n",
    "    # Write to the TST\n",
    "    for w in words:\n",
    "        t.insert(w)\n",
    "        find_w, _, _ = t.find(w)\n",
    "        assert find_w == True\n",
    "    return t\n",
    "        \n",
    "def words_to_hash(words, n):\n",
    "    # Write to the hashtable\n",
    "    hash = hashTable(n)\n",
    "    for w in words:\n",
    "        hash.insert(w)\n",
    "    return hash"
   ]
  },
  {
   "cell_type": "markdown",
   "metadata": {},
   "source": [
    "# Testing for the insert function\n",
    "The time complexity of the insertion functions for the TST and hashing implementations are compared here"
   ]
  },
  {
   "cell_type": "code",
   "execution_count": 13,
   "metadata": {},
   "outputs": [],
   "source": [
    "def runtime_insert():\n",
    "    nValues = []\n",
    "    tst_tValues = []\n",
    "    hash_tValues = []\n",
    "    \n",
    "    for i in range(1000, 100000, 1000):\n",
    "        nValues.append(i)\n",
    "        words = words_to_array(\"dict.txt\", i)  \n",
    "        \n",
    "        tst_start = time.time()\n",
    "        tst = words_to_tst(words) \n",
    "        tst_end = time.time()\n",
    "        \n",
    "        tst_runtime = (tst_end - tst_start) * 1000\n",
    "\n",
    "        tst_tValues.append(tst_runtime)\n",
    "        \n",
    "        hash_start = time.time()\n",
    "        hash = words_to_hash(words, i)\n",
    "        hash_end = time.time()\n",
    "        \n",
    "        hash_runtime = (hash_end - hash_start) * 1000\n",
    "        hash_tValues.append(hash_runtime)\n",
    "\n",
    "    plt.title(\"Insertion Runtime Comparison\")\n",
    "    plt.xlabel(\"Number of words\") \n",
    "    plt.ylabel(\"Time(ms)\") \n",
    "    plt.plot(nValues, tst_tValues, color = \"red\" , label = \"TST Insert\")\n",
    "    plt.plot(nValues, hash_tValues, \"--\", color = \"blue\", label = \"Hash Insert\")\n",
    "    plt.legend() \n",
    "    plt.show()"
   ]
  },
  {
   "cell_type": "code",
   "execution_count": 17,
   "metadata": {},
   "outputs": [
    {
     "data": {
      "image/png": "[encoded data removed]",
      "text/plain": [
       "<Figure size 432x288 with 1 Axes>"
      ]
     },
     "metadata": {
      "needs_background": "light"
     },
     "output_type": "display_data"
    }
   ],
   "source": [
    "    runtime_insert()"
   ]
  },
  {
   "cell_type": "markdown",
   "metadata": {},
   "source": [
    "# Testing for the lookup function\n",
    "The time complexity of the TST and hashing implementations are compared here"
   ]
  },
  {
   "cell_type": "code",
   "execution_count": 15,
   "metadata": {},
   "outputs": [],
   "source": [
    "def runtime_search():\n",
    "    nValues = []\n",
    "    tst_tValues = []\n",
    "    hash_tValues = []\n",
    "    \n",
    "    for i in range(1000, 100000, 1000):\n",
    "        nValues.append(i)\n",
    "        words = words_to_array(\"dict.txt\", i)  \n",
    "        tst = words_to_tst(words) \n",
    "        hash = words_to_hash(words, i)\n",
    "        \n",
    "        tst_start = time.time()\n",
    "        for n in words:\n",
    "            exist = tst.find(n)\n",
    "        tst_end = time.time()\n",
    "        \n",
    "        tst_runtime = (tst_end - tst_start) * 1000\n",
    "        tst_tValues.append(tst_runtime)\n",
    "        \n",
    "        hash_start = time.time()\n",
    "        for w in words:\n",
    "            exist = hash.search(w)\n",
    "        hash_end = time.time()\n",
    "        \n",
    "        hash_runtime = (hash_end - hash_start) * 1000\n",
    "        hash_tValues.append(hash_runtime)\n",
    "\n",
    "    plt.title(\"Insertion Runtime Comparison\")\n",
    "    plt.xlabel(\"Number of words\") \n",
    "    plt.ylabel(\"Time(ms)\") \n",
    "    plt.plot(nValues, tst_tValues, color = \"red\" , label = \"TST Search\")\n",
    "    plt.plot(nValues, hash_tValues, \"--\", color = \"blue\", label = \"Hash Search\")\n",
    "    plt.grid() \n",
    "    plt.legend() \n",
    "    plt.show()"
   ]
  },
  {
   "cell_type": "code",
   "execution_count": 16,
   "metadata": {},
   "outputs": [
    {
     "data": {
      "image/png": "[encoded data removed]",
      "text/plain": [
       "<Figure size 432x288 with 1 Axes>"
      ]
     },
     "metadata": {
      "needs_background": "light"
     },
     "output_type": "display_data"
    }
   ],
   "source": [
    "runtime_search()"
   ]
  },
  {
   "cell_type": "code",
   "execution_count": null,
   "metadata": {},
   "outputs": [],
   "source": []
  }
 ],
 "metadata": {
  "kernelspec": {
   "display_name": "Python 3",
   "language": "python",
   "name": "python3"
  },
  "language_info": {
   "codemirror_mode": {
    "name": "ipython",
    "version": 3
   },
   "file_extension": ".py",
   "mimetype": "text/x-python",
   "name": "python",
   "nbconvert_exporter": "python",
   "pygments_lexer": "ipython3",
   "version": "3.7.1"
  }
 },
 "nbformat": 4,
 "nbformat_minor": 2
}
